{
 "cells": [
  {
   "cell_type": "markdown",
   "id": "8ea9fae1",
   "metadata": {},
   "source": [
    "# Scenario 1: Grocery Shopping List"
   ]
  },
  {
   "cell_type": "code",
   "execution_count": 11,
   "id": "d521f781",
   "metadata": {},
   "outputs": [
    {
     "name": "stdout",
     "output_type": "stream",
     "text": [
      "Enter your items (insert comma after every item): apple,mango,orange\n",
      "Do you want to delete any item(s) from the list (YES/NO): YES\n",
      "Enter the item to remove it from the grocery list: orange\n",
      "['apple', 'mango']\n",
      "Do you want to add any item in the list (yes/no): yes\n",
      "Enter the item you want to add in the list (insert comma after every item): grapes\n",
      "['apple', 'mango', 'grapes']\n"
     ]
    }
   ],
   "source": [
    "grocery = []\n",
    "cart = input(\"Enter your items (insert comma after every item): \").split(',')\n",
    "\n",
    "for item in cart:\n",
    "    grocery.append(item)\n",
    "\n",
    "confirmation = input(\"Do you want to delete any item(s) from the list (YES/NO): \")\n",
    "\n",
    "if confirmation == 'YES':\n",
    "    delete = input(\"Enter the item to remove it from the grocery list: \")\n",
    "    if delete in grocery:\n",
    "        grocery.remove(delete)\n",
    "        print(grocery)\n",
    "    else:\n",
    "        print(f\"{delete} is not in the list.\")\n",
    "        \n",
    "question = input(\"Do you want to add any item in the list (yes/no): \")\n",
    "\n",
    "if question == 'yes':\n",
    "    add = input(\"Enter the item you want to add in the list (insert comma after every item): \").split(',')\n",
    "    for items in add:\n",
    "        grocery.append(items)\n",
    "        print(grocery)    \n",
    "else:\n",
    "    print(grocery)"
   ]
  },
  {
   "cell_type": "markdown",
   "id": "e9fa5fb4",
   "metadata": {},
   "source": [
    "# Scenario 2: Student Grades"
   ]
  },
  {
   "cell_type": "code",
   "execution_count": null,
   "id": "b71759c0",
   "metadata": {},
   "outputs": [],
   "source": [
    "student_grades = {}\n",
    "\n",
    "def input_grades():\n",
    "    student_name = input(\"Enter student name: \")\n",
    "    grade = int(input(\"Enter student grade: \"))\n",
    "    student_grades[student_name] = grade\n",
    "\n",
    "for _ in range(5):\n",
    "    input_grades()\n",
    "\n",
    "total_grades = sum(student_grades.values())\n",
    "average_grade = total_grades / len(student_grades)\n",
    "\n",
    "print(f\"Average Grade: {average_grade}\")\n"
   ]
  },
  {
   "cell_type": "markdown",
   "id": "0cec8ec2",
   "metadata": {},
   "source": [
    "# Scenario 3: Word Frequency Counter"
   ]
  },
  {
   "cell_type": "code",
   "execution_count": 2,
   "id": "ff8cc6e7",
   "metadata": {},
   "outputs": [
    {
     "name": "stdout",
     "output_type": "stream",
     "text": [
      "Apple: 3\n",
      "Banana: 2\n",
      "Orange: 1\n",
      "Grape: 1\n"
     ]
    }
   ],
   "source": [
    "word_list = [\"apple\", \"banana\", \"apple\", \"orange\", \"banana\", \"grape\", \"apple\"]\n",
    "\n",
    "a = word_list.count(\"apple\")\n",
    "print(f\"Apple: {a}\")\n",
    "\n",
    "b = word_list.count(\"banana\")\n",
    "print(f\"Banana: {b}\")\n",
    "\n",
    "c = word_list.count(\"orange\")\n",
    "print(f\"Orange: {c}\")\n",
    "\n",
    "d = word_list.count(\"grape\")\n",
    "print(f\"Grape: {d}\")"
   ]
  },
  {
   "cell_type": "markdown",
   "id": "23f389c5",
   "metadata": {},
   "source": [
    "# Scenario 4: Password Strength Checker"
   ]
  },
  {
   "cell_type": "code",
   "execution_count": 4,
   "id": "2d222157",
   "metadata": {},
   "outputs": [
    {
     "name": "stdout",
     "output_type": "stream",
     "text": [
      "Enter your password: muhammadshariq1\n",
      "password meets criteria\n"
     ]
    }
   ],
   "source": [
    "password = input(\"Enter your password: \")\n",
    "letter = any(alphabet.isalpha() for alphabet in password)\n",
    "number = any(digit.isdigit() for digit in password)\n",
    "\n",
    "if len(password) >= 8 and letter and number:\n",
    "    print(\"password meets criteria\")\n",
    "else:\n",
    "    print(\"Invalid password. Please ensure the following:\")\n",
    "    if len(password) < 8:\n",
    "        print(\"• Password should be at least 8 characters long.\")\n",
    "    if not number:\n",
    "        print(\"• Password should contain at least one digit.\")\n",
    "    if not letter:\n",
    "        print(\"• Password should contain at least one letter.\")"
   ]
  },
  {
   "cell_type": "markdown",
   "id": "9e2aedad",
   "metadata": {},
   "source": [
    "# Scenario 5: Voting System (Annual Employee Recognition Awards)"
   ]
  },
  {
   "cell_type": "code",
   "execution_count": 6,
   "id": "41146052",
   "metadata": {},
   "outputs": [
    {
     "name": "stdout",
     "output_type": "stream",
     "text": [
      "Enter the number of voters participating: 4\n",
      "\n",
      "Voter 1, please choose your preferred candidate:\n",
      "Candidates:\n",
      "1. Candidate A\n",
      "2. Candidate B\n",
      "3. Candidate C\n",
      "Enter the number corresponding to your choice (1-3): 1\n",
      "Vote recorded for Candidate A! Thank you, Voter 1.\n",
      "\n",
      "\n",
      "Voter 2, please choose your preferred candidate:\n",
      "Candidates:\n",
      "1. Candidate A\n",
      "2. Candidate B\n",
      "3. Candidate C\n",
      "Enter the number corresponding to your choice (1-3): 2\n",
      "Vote recorded for Candidate B! Thank you, Voter 2.\n",
      "\n",
      "\n",
      "Voter 3, please choose your preferred candidate:\n",
      "Candidates:\n",
      "1. Candidate A\n",
      "2. Candidate B\n",
      "3. Candidate C\n",
      "Enter the number corresponding to your choice (1-3): 3\n",
      "Vote recorded for Candidate C! Thank you, Voter 3.\n",
      "\n",
      "\n",
      "Voter 4, please choose your preferred candidate:\n",
      "Candidates:\n",
      "1. Candidate A\n",
      "2. Candidate B\n",
      "3. Candidate C\n",
      "Enter the number corresponding to your choice (1-3): 4\n",
      "Invalid input! Please choose a number between 1 and 3.\n",
      "Enter the number corresponding to your choice (1-3): 1\n",
      "Vote recorded for Candidate A! Thank you, Voter 4.\n",
      "\n",
      "\n",
      "Vote count:\n",
      "Candidate A: 2 votes\n",
      "Candidate B: 1 votes\n",
      "Candidate C: 1 votes\n"
     ]
    }
   ],
   "source": [
    "def print_candidates():\n",
    "    print(\"Candidates:\")\n",
    "    print(\"1. Candidate A\")\n",
    "    print(\"2. Candidate B\")\n",
    "    print(\"3. Candidate C\")\n",
    "\n",
    "def vote_count(votes):\n",
    "    print(\"\\nVote count:\")\n",
    "    for candidate, count in votes.items():\n",
    "        print(f\"{candidate}: {count} votes\")\n",
    "\n",
    "def main():\n",
    "    candidates = ['Candidate A', 'Candidate B', 'Candidate C']\n",
    "    total_voters = int(input(\"Enter the number of voters participating: \"))\n",
    "\n",
    "    \n",
    "    votes = {candidate: 0 for candidate in candidates}\n",
    "\n",
    "    for voter in range(1, total_voters + 1):\n",
    "        print(f\"\\nVoter {voter}, please choose your preferred candidate:\")\n",
    "        print_candidates()\n",
    "\n",
    "        while True:\n",
    "            try:\n",
    "                vote = int(input(\"Enter the number corresponding to your choice (1-3): \"))\n",
    "                if 1 <= vote <= 3:\n",
    "                    \n",
    "                    selected_candidate = candidates[vote - 1]\n",
    "                    votes[selected_candidate] += 1\n",
    "                    print(f\"Vote recorded for {selected_candidate}! Thank you, Voter {voter}.\\n\")\n",
    "                    break\n",
    "                else:\n",
    "                    print(\"Invalid input! Please choose a number between 1 and 3.\")\n",
    "            except ValueError:\n",
    "                print(\"Invalid input! Please enter a valid number.\")\n",
    "\n",
    "    \n",
    "    vote_count(votes)\n",
    "\n",
    "if __name__ == \"__main__\":\n",
    "    main()"
   ]
  }
 ],
 "metadata": {
  "kernelspec": {
   "display_name": "Python 3 (ipykernel)",
   "language": "python",
   "name": "python3"
  },
  "language_info": {
   "codemirror_mode": {
    "name": "ipython",
    "version": 3
   },
   "file_extension": ".py",
   "mimetype": "text/x-python",
   "name": "python",
   "nbconvert_exporter": "python",
   "pygments_lexer": "ipython3",
   "version": "3.11.5"
  }
 },
 "nbformat": 4,
 "nbformat_minor": 5
}
